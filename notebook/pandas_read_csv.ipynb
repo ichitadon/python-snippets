{
 "cells": [
  {
   "cell_type": "code",
   "execution_count": 1,
   "metadata": {},
   "outputs": [],
   "source": [
    "import pandas as pd"
   ]
  },
  {
   "cell_type": "code",
   "execution_count": 2,
   "metadata": {},
   "outputs": [
    {
     "name": "stdout",
     "output_type": "stream",
     "text": [
      "   no  title        text         class\n",
      "0   1    one    text-one   class-first\n",
      "1   2    two    text-two  class-second\n",
      "2   3  three  text-three   class-third\n"
     ]
    }
   ],
   "source": [
    "# ヘッダーありcsvを読み込む\n",
    "df_csv = pd.read_csv(\"input_files/sample_first_line_header.csv\")\n",
    "print(df_csv)\n",
    "\n",
    "# input csv:\n",
    "# \"no\",\"title\",\"text\",\"class\"\n",
    "# 1,\"one\",\"text-one\",\"class-first\"\n",
    "# 2,\"two\",\"text-two\",\"class-second\"\n",
    "# 3,\"three\",\"text-three\",\"class-third\"\n",
    "\n",
    "# display:\n",
    "#    no  title        text         class\n",
    "# 0   1    one    text-one   class-first\n",
    "# 1   2    two    text-two  class-second\n",
    "# 2   3  three  text-three   class-third"
   ]
  },
  {
   "cell_type": "code",
   "execution_count": 3,
   "metadata": {},
   "outputs": [
    {
     "name": "stdout",
     "output_type": "stream",
     "text": [
      "   no  title        text         class\n",
      "0   1    one    text-one   class-first\n",
      "1   2    two    text-two  class-second\n",
      "2   3  three  text-three   class-third\n"
     ]
    }
   ],
   "source": [
    "# ヘッダーありcsvを読み込む時、2行目をヘッダーに指定する\n",
    "df_csv = pd.read_csv(\"input_files/sample_second_line_header.csv\", header=1)\n",
    "print(df_csv)\n",
    "\n",
    "# input csv:\n",
    "# \"hoge\",\"hoge\",\"hoge\",\"hoge\"\n",
    "# \"no\",\"title\",\"text\",\"class\"\n",
    "# 1,\"one\",\"text-one\",\"class-first\"\n",
    "# 2,\"two\",\"text-two\",\"class-second\"\n",
    "# 3,\"three\",\"text-three\",\"class-third\"\n",
    "\n",
    "# display:\n",
    "#    no  title        text         class\n",
    "# 0   1    one    text-one   class-first\n",
    "# 1   2    two    text-two  class-second\n",
    "# 2   3  three  text-three   class-third"
   ]
  },
  {
   "cell_type": "code",
   "execution_count": 4,
   "metadata": {},
   "outputs": [
    {
     "name": "stdout",
     "output_type": "stream",
     "text": [
      "   0      1           2             3\n",
      "0  1    one    text-one   class-first\n",
      "1  2    two    text-two  class-second\n",
      "2  3  three  text-three   class-third\n"
     ]
    }
   ],
   "source": [
    "# ヘッダーなしcsvを読み込む\n",
    "df_csv = pd.read_csv(\"input_files/sample_no_header.csv\", header=None)\n",
    "print(df_csv)\n",
    "\n",
    "# input csv:\n",
    "# 1,\"one\",\"text-one\",\"class-first\"\n",
    "# 2,\"two\",\"text-two\",\"class-second\"\n",
    "# 3,\"three\",\"text-three\",\"class-third\"\n",
    "\n",
    "# display:\n",
    "#    0      1           2             3\n",
    "# 0  1    one    text-one   class-first\n",
    "# 1  2    two    text-two  class-second\n",
    "# 2  3  three  text-three   class-third"
   ]
  },
  {
   "cell_type": "code",
   "execution_count": 5,
   "metadata": {},
   "outputs": [
    {
     "name": "stdout",
     "output_type": "stream",
     "text": [
      "    title        text         class\n",
      "no                                 \n",
      "1     one    text-one   class-first\n",
      "2     two    text-two  class-second\n",
      "3   three  text-three   class-third\n"
     ]
    }
   ],
   "source": [
    "# インデックスを指定してcsvを読み込む\n",
    "df_csv = pd.read_csv(\"input_files/sample_first_line_header.csv\", index_col=0)\n",
    "print(df_csv)\n",
    "\n",
    "# input csv:\n",
    "# \"no\",\"title\",\"text\",\"class\"\n",
    "# 1,\"one\",\"text-one\",\"class-first\"\n",
    "# 2,\"two\",\"text-two\",\"class-second\"\n",
    "# 3,\"three\",\"text-three\",\"class-third\"\n",
    "\n",
    "# display:\n",
    "#     title        text         class\n",
    "# no                                 \n",
    "# 1     one    text-one   class-first\n",
    "# 2     two    text-two  class-second\n",
    "# 3   three  text-three   class-third"
   ]
  },
  {
   "cell_type": "code",
   "execution_count": 6,
   "metadata": {},
   "outputs": [
    {
     "name": "stdout",
     "output_type": "stream",
     "text": [
      "   no title      text         class\n",
      "0   1   one  text-one   class-first\n",
      "1   2   two  text-two  class-second\n"
     ]
    }
   ],
   "source": [
    "# csvの先頭の指定行を読み込む\n",
    "df_csv = pd.read_csv(\"input_files/sample_first_line_header.csv\", nrows=2)\n",
    "print(df_csv)\n",
    "\n",
    "# input csv:\n",
    "# \"no\",\"title\",\"text\",\"class\"\n",
    "# 1,\"one\",\"text-one\",\"class-first\"\n",
    "# 2,\"two\",\"text-two\",\"class-second\"\n",
    "# 3,\"three\",\"text-three\",\"class-third\"\n",
    "\n",
    "# display:\n",
    "#    no title      text         class\n",
    "# 0   1   one  text-one   class-first\n",
    "# 1   2   two  text-two  class-second"
   ]
  },
  {
   "cell_type": "code",
   "execution_count": 7,
   "metadata": {},
   "outputs": [
    {
     "name": "stdout",
     "output_type": "stream",
     "text": [
      "   no  title        text         class\n",
      "0   1    one    text-one   class-first\n",
      "1   2    two    text-two  class-second\n",
      "2   3  three  text-three   class-third\n"
     ]
    }
   ],
   "source": [
    "# tsvを読み込む（セパレータを変更する）\n",
    "df_csv = pd.read_csv(\"input_files/sample_first_line_header.tsv\", sep=\"\\t\")\n",
    "print(df_csv)\n",
    "\n",
    "# input csv:\n",
    "# \"no\"\t\"title\"\t\"text\"\t\"class\"\n",
    "# 1\t\"one\"\t\"text-one\"\t\"class-first\"\n",
    "# 2\t\"two\"\t\"text-two\"\t\"class-second\"\n",
    "# 3\t\"three\"\t\"text-three\"\t\"class-third\"\n",
    "\n",
    "# display:\n",
    "#    no  title        text         class\n",
    "# 0   1    one    text-one   class-first\n",
    "# 1   2    two    text-two  class-second\n",
    "# 2   3  three  text-three   class-third"
   ]
  }
 ],
 "metadata": {
  "kernelspec": {
   "display_name": "Python 3",
   "language": "python",
   "name": "python3"
  },
  "language_info": {
   "codemirror_mode": {
    "name": "ipython",
    "version": 3
   },
   "file_extension": ".py",
   "mimetype": "text/x-python",
   "name": "python",
   "nbconvert_exporter": "python",
   "pygments_lexer": "ipython3",
   "version": "3.7.6"
  }
 },
 "nbformat": 4,
 "nbformat_minor": 4
}
